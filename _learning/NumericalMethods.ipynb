{
 "cells": [
  {
   "cell_type": "markdown",
   "metadata": {},
   "source": [
    "# Numerical Analysis\n",
    "Sources:\n",
    "* ..."
   ]
  },
  {
   "cell_type": "markdown",
   "metadata": {},
   "source": [
    "### Mathematical Analysis vs Discrete Mathematics\n",
    "__Analysis__ is the branch of mathematics that evolves from calculus, and deals with continuous functions, limits, and related theories, such as differentiation, integration, measure, infinite sequences, series, and analytic functions -- i.e. a function is analytic if and only if for every $x_0$ in its domain, its Taylor series about $x_0$ converges to the function in some neighborhood of $x_0$.\n",
    "\n",
    "<details>\n",
    "<summary><strong>Important Concepts</strong></summary>\n",
    "\n",
    "* __Metric Spaces__: \n",
    "* __Sequence and Limits__:\n",
    "</details>\n",
    "\n",
    "<details>\n",
    "<summary><strong>Main branches</strong></summary>\n",
    "\n",
    "* __Differential Equations__:\n",
    "* __Calculus__: \n",
    "* __Real Analysis__:\n",
    "* __Complex Analysis__:\n",
    "* __Functional Analysis__:\n",
    "* __Measure Theory__:\n",
    "* __Numerical Analysis__: The study of numerical approximation (as opposed to symbolic manipulation) in mathematical analysis (as opposed to discrete).\n",
    "* __Scalar Analysis__:\n",
    "* __Vector Analysis__:\n",
    "* __Tensor Analysis__:\n",
    "</details>\n",
    "\n",
    "__Discrete Math__ is the study of mathematical structures that can be considered \"discrete\" rather than \"continuous\". Objects studied in discrete mathematics include integers, graphs, and statements in logic. By contrast, discrete mathematics excludes topics in \"continuous mathematics\" such as real numbers, calculus or Euclidean geometry. \n",
    "\n",
    "<details>\n",
    "<summary><strong>Main branches</strong></summary>\n",
    "\n",
    "* __Logic__:\n",
    "* __Sets and Relations__: \n",
    "  * Set Theory\n",
    "  * Functions\n",
    "  * Algorithms\n",
    "  * Sequence and Summations\n",
    "  * Relations\n",
    "* __Combinatorics and Graph theory__:\n",
    "  * Graph theory\n",
    "  * Graph Algorithms\n",
    "* __Induction__:\n",
    "  * Counting\n",
    "  * Permutaitons and Combinations\n",
    "  * Inclusion-Exclusion Principle\n",
    "  * Discrete Probability\n",
    "* __Ordered sets and Lattices__:\n",
    "  * Partially Ordered Sets (POSET)\n",
    "  * Hasse Diagram\n",
    "  * Lattices\n",
    "* __Probability__:\n",
    "  * Probability\n",
    "  * Conditional Probability\n",
    "  * Bayes' Theorem\n",
    "  * Types of distributions\n",
    "  * Markov chains\n",
    "\n",
    "* __Optimization__:\n",
    "  * Linear programming\n",
    "  * Simplex algorithm\n",
    "  * PERT (Project Evaluation and Review Technique) -- Project management tool\n",
    "</details>\n",
    "\n",
    "While the focus are distinct, both branches have benefitted from each other. For example, calculus techniques were applied to approximate discrete problems by continuous ones."
   ]
  },
  {
   "cell_type": "markdown",
   "metadata": {},
   "source": [
    "# Linearization\n",
    "Link: https://www.diva-portal.org/smash/get/diva2:467519/FULLTEXT01.pdf"
   ]
  },
  {
   "cell_type": "markdown",
   "metadata": {},
   "source": [
    "## Finite-difference methods\n",
    "Finite-difference methods (FDM) are a class of numerical techniques for solving differential equations by approximating derivatives with finite differences. Both the spatial domain and time domain (if applicable) are discretized, or broken into a finite number of intervals, and the values of the solution at the end points of the intervals are approximated by solving algebraic equations containing finite differences and values from nearby points.\n",
    "\n",
    "Finite difference methods convert ordinary differential equations (ODE) or partial differential equations (PDE), which may be nonlinear, into a system of linear equations that can be solved by matrix algebra techniques. Modern computers can perform these linear algebra computations efficiently which, along with their relative ease of implementation, has led to the widespread use of FDM in modern numerical analysis. Today, FDMs are one of the most common approaches to the numerical solution of PDE, along with finite element methods."
   ]
  },
  {
   "cell_type": "markdown",
   "metadata": {},
   "source": []
  },
  {
   "cell_type": "markdown",
   "metadata": {},
   "source": []
  },
  {
   "cell_type": "markdown",
   "metadata": {},
   "source": []
  }
 ],
 "metadata": {
  "language_info": {
   "name": "python"
  }
 },
 "nbformat": 4,
 "nbformat_minor": 2
}
