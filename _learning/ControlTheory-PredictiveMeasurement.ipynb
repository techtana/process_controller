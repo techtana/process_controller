{
 "cells": [
  {
   "cell_type": "markdown",
   "metadata": {},
   "source": [
    "# Using Predictive model to Replace or Supplement Measurement"
   ]
  },
  {
   "cell_type": "markdown",
   "metadata": {},
   "source": [
    "In state space models, data filters such as Kalman filters is commonly used to estimate both the true states and measurements values in the presence of gaussian noise. During which, we we can tune Q and R covariance matrices and the horizon of data used for estimation. While other optimal filters are available to deal with non-gaussian noise ([particle filters or MCMC](https://stats.stackexchange.com/questions/2149/what-is-the-difference-between-a-particle-filter-sequential-monte-carlo-and-a)) or non-linear dynamics ([EKE or UKE](https://math.stackexchange.com/questions/1799324/in-which-cases-will-an-ekf-be-better-than-the-ukf)), it is important to notice that errors contains 2 components: [noise and bias](https://natematias.medium.com/bias-and-noise-daniel-kahneman-onerrors-in-decision-making-6bc844ff5194). While we typically think of measurements as purely containing random noise, when using predictive models to supplement measurements, both bias and noise can play large roles."
   ]
  },
  {
   "cell_type": "markdown",
   "metadata": {},
   "source": []
  }
 ],
 "metadata": {
  "language_info": {
   "name": "python"
  }
 },
 "nbformat": 4,
 "nbformat_minor": 2
}
